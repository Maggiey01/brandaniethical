{
 "cells": [
  {
   "cell_type": "markdown",
   "id": "46cd7508",
   "metadata": {},
   "source": [
    "# Get trendy tickers' company information from Yahoo Finance api + ESG api\n",
    "check trending tickets across market regions, sort by top mktprice, start from specified top X tickers. uplimit = 20\n",
    "\n",
    "region = ['US', 'BR', 'AU', 'CA', 'FR', 'DE', 'HK', 'IN', 'IT', 'ES', 'GB', 'SG']\n",
    "Yahoo finance API: https://rapidapi.com/apidojo/api/yh-finance/\n",
    "ESG API document: https://www.esgenterprise.com/esg-enterprise-data-api-services/\n",
    "both API requires api key that could be required through signing in websites.\n",
    "\n",
    "I make general search of those trendy tickers by discarding usd, cad and etc terms from trendy tickers search results. For example, shib-usd and shib-cad are all searched with 'shib' since the esg api only returns the origin ticker symbol.\n",
    "Also, due to the rate limit of esg api, I set trendy tickers search results limited in 5 tickers. but users can start at any point of trendy tickers list sorted by market prices, the default is start from the 5th trendy tickers and return 5-10 trendy tickers esg scores.\n",
    "\n",
    "skills:\n",
    "Data Acquisition:\n",
    "Import data from json.\n",
    "Use APIs to obtain data. - esg api + yahoo finance api\n",
    "Write an API client for an API and/or functions associated with API interaction.\n",
    "Handle, parse, and transform JSON and XML.\n",
    "Data Cleaning, Transformation, and Organization:\n",
    "Use data wrangling to transform data into a dataframe ready for analysis.\n",
    "Use loops processes.\n",
    "Use functions and functional programming to export repetitive or difficult tasks.\n",
    "Handle and process strings and use regular expressions.\n",
    "Documentation and Presentation:\n",
    "Provide and document useful functions as part of a Python package.\n",
    "capture error\n",
    "Use Jupyter Notebook to generate a vignette on how to use your package functions."
   ]
  },
  {
   "cell_type": "markdown",
   "id": "5889a152",
   "metadata": {},
   "source": [
    "# import package"
   ]
  },
  {
   "cell_type": "code",
   "execution_count": 1,
   "id": "73749265",
   "metadata": {},
   "outputs": [
    {
     "name": "stdout",
     "output_type": "stream",
     "text": [
      "Requirement already satisfied: brandaniethical in /opt/anaconda3/lib/python3.8/site-packages (0.1.0)\n",
      "Requirement already satisfied: pandas<2.0.0,>=1.3.5 in /opt/anaconda3/lib/python3.8/site-packages (from brandaniethical) (1.3.5)\n",
      "Requirement already satisfied: pytest<7.0.0,>=6.2.5 in /opt/anaconda3/lib/python3.8/site-packages (from brandaniethical) (6.2.5)\n",
      "Requirement already satisfied: bs4<0.0.2,>=0.0.1 in /opt/anaconda3/lib/python3.8/site-packages (from brandaniethical) (0.0.1)\n",
      "Requirement already satisfied: lxml<5.0.0,>=4.7.1 in /opt/anaconda3/lib/python3.8/site-packages (from brandaniethical) (4.7.1)\n",
      "Requirement already satisfied: requests<3.0.0,>=2.26.0 in /opt/anaconda3/lib/python3.8/site-packages (from brandaniethical) (2.26.0)\n",
      "Requirement already satisfied: beautifulsoup4 in /opt/anaconda3/lib/python3.8/site-packages (from bs4<0.0.2,>=0.0.1->brandaniethical) (4.9.3)\n",
      "Requirement already satisfied: python-dateutil>=2.7.3 in /opt/anaconda3/lib/python3.8/site-packages (from pandas<2.0.0,>=1.3.5->brandaniethical) (2.8.1)\n",
      "Requirement already satisfied: numpy>=1.17.3 in /opt/anaconda3/lib/python3.8/site-packages (from pandas<2.0.0,>=1.3.5->brandaniethical) (1.20.1)\n",
      "Requirement already satisfied: pytz>=2017.3 in /opt/anaconda3/lib/python3.8/site-packages (from pandas<2.0.0,>=1.3.5->brandaniethical) (2021.1)\n",
      "Requirement already satisfied: iniconfig in /opt/anaconda3/lib/python3.8/site-packages (from pytest<7.0.0,>=6.2.5->brandaniethical) (1.1.1)\n",
      "Requirement already satisfied: py>=1.8.2 in /opt/anaconda3/lib/python3.8/site-packages (from pytest<7.0.0,>=6.2.5->brandaniethical) (1.10.0)\n",
      "Requirement already satisfied: pluggy<2.0,>=0.12 in /opt/anaconda3/lib/python3.8/site-packages (from pytest<7.0.0,>=6.2.5->brandaniethical) (0.13.1)\n",
      "Requirement already satisfied: toml in /opt/anaconda3/lib/python3.8/site-packages (from pytest<7.0.0,>=6.2.5->brandaniethical) (0.10.2)\n",
      "Requirement already satisfied: attrs>=19.2.0 in /opt/anaconda3/lib/python3.8/site-packages (from pytest<7.0.0,>=6.2.5->brandaniethical) (20.3.0)\n",
      "Requirement already satisfied: packaging in /opt/anaconda3/lib/python3.8/site-packages (from pytest<7.0.0,>=6.2.5->brandaniethical) (20.9)\n",
      "Requirement already satisfied: six>=1.5 in /opt/anaconda3/lib/python3.8/site-packages (from python-dateutil>=2.7.3->pandas<2.0.0,>=1.3.5->brandaniethical) (1.15.0)\n",
      "Requirement already satisfied: charset-normalizer~=2.0.0 in /opt/anaconda3/lib/python3.8/site-packages (from requests<3.0.0,>=2.26.0->brandaniethical) (2.0.9)\n",
      "Requirement already satisfied: idna<4,>=2.5 in /opt/anaconda3/lib/python3.8/site-packages (from requests<3.0.0,>=2.26.0->brandaniethical) (2.10)\n",
      "Requirement already satisfied: certifi>=2017.4.17 in /opt/anaconda3/lib/python3.8/site-packages (from requests<3.0.0,>=2.26.0->brandaniethical) (2020.12.5)\n",
      "Requirement already satisfied: urllib3<1.27,>=1.21.1 in /opt/anaconda3/lib/python3.8/site-packages (from requests<3.0.0,>=2.26.0->brandaniethical) (1.25.11)\n",
      "Requirement already satisfied: soupsieve>1.2 in /opt/anaconda3/lib/python3.8/site-packages (from beautifulsoup4->bs4<0.0.2,>=0.0.1->brandaniethical) (2.2.1)\n",
      "Requirement already satisfied: pyparsing>=2.0.2 in /opt/anaconda3/lib/python3.8/site-packages (from packaging->pytest<7.0.0,>=6.2.5->brandaniethical) (2.4.7)\n",
      "Note: you may need to restart the kernel to use updated packages.\n"
     ]
    }
   ],
   "source": [
    "pip install brandaniethical"
   ]
  },
  {
   "cell_type": "code",
   "execution_count": 2,
   "id": "ca4b71ce",
   "metadata": {},
   "outputs": [],
   "source": [
    "from brandaniethical import brandaniethical"
   ]
  },
  {
   "cell_type": "code",
   "execution_count": 3,
   "id": "d5dc7d15",
   "metadata": {},
   "outputs": [
    {
     "data": {
      "text/html": [
       "<div>\n",
       "<style scoped>\n",
       "    .dataframe tbody tr th:only-of-type {\n",
       "        vertical-align: middle;\n",
       "    }\n",
       "\n",
       "    .dataframe tbody tr th {\n",
       "        vertical-align: top;\n",
       "    }\n",
       "\n",
       "    .dataframe thead th {\n",
       "        text-align: right;\n",
       "    }\n",
       "</style>\n",
       "<table border=\"1\" class=\"dataframe\">\n",
       "  <thead>\n",
       "    <tr style=\"text-align: right;\">\n",
       "      <th></th>\n",
       "      <th>company_name</th>\n",
       "      <th>env_score</th>\n",
       "      <th>soc_score</th>\n",
       "      <th>gov_score</th>\n",
       "      <th>total</th>\n",
       "      <th>ticker</th>\n",
       "    </tr>\n",
       "  </thead>\n",
       "  <tbody>\n",
       "    <tr>\n",
       "      <th>0</th>\n",
       "      <td>Nikola Corporation</td>\n",
       "      <td>243</td>\n",
       "      <td>231</td>\n",
       "      <td>210</td>\n",
       "      <td>684</td>\n",
       "      <td>NKLA</td>\n",
       "    </tr>\n",
       "    <tr>\n",
       "      <th>1</th>\n",
       "      <td>Invitae Corporation</td>\n",
       "      <td>260</td>\n",
       "      <td>304</td>\n",
       "      <td>295</td>\n",
       "      <td>859</td>\n",
       "      <td>NVTA</td>\n",
       "    </tr>\n",
       "    <tr>\n",
       "      <th>2</th>\n",
       "      <td>Coupang, Inc.</td>\n",
       "      <td>200</td>\n",
       "      <td>201</td>\n",
       "      <td>200</td>\n",
       "      <td>601</td>\n",
       "      <td>CPNG</td>\n",
       "    </tr>\n",
       "    <tr>\n",
       "      <th>3</th>\n",
       "      <td>AMC Entertainment Holdings, Inc.</td>\n",
       "      <td>210</td>\n",
       "      <td>216</td>\n",
       "      <td>200</td>\n",
       "      <td>626</td>\n",
       "      <td>AMC</td>\n",
       "    </tr>\n",
       "    <tr>\n",
       "      <th>4</th>\n",
       "      <td>General Motors Company</td>\n",
       "      <td>391</td>\n",
       "      <td>323</td>\n",
       "      <td>215</td>\n",
       "      <td>929</td>\n",
       "      <td>GM</td>\n",
       "    </tr>\n",
       "  </tbody>\n",
       "</table>\n",
       "</div>"
      ],
      "text/plain": [
       "                       company_name  env_score  soc_score  gov_score  total  \\\n",
       "0                Nikola Corporation        243        231        210    684   \n",
       "1               Invitae Corporation        260        304        295    859   \n",
       "2                     Coupang, Inc.        200        201        200    601   \n",
       "3  AMC Entertainment Holdings, Inc.        210        216        200    626   \n",
       "4            General Motors Company        391        323        215    929   \n",
       "\n",
       "  ticker  \n",
       "0   NKLA  \n",
       "1   NVTA  \n",
       "2   CPNG  \n",
       "3    AMC  \n",
       "4     GM  "
      ]
     },
     "execution_count": 3,
     "metadata": {},
     "output_type": "execute_result"
    }
   ],
   "source": [
    "#show case\n",
    "brandaniethical.trendyesg(region='US',start =8)"
   ]
  },
  {
   "cell_type": "code",
   "execution_count": null,
   "id": "88cd3b13",
   "metadata": {},
   "outputs": [],
   "source": []
  }
 ],
 "metadata": {
  "kernelspec": {
   "display_name": "Python 3",
   "language": "python",
   "name": "python3"
  },
  "language_info": {
   "codemirror_mode": {
    "name": "ipython",
    "version": 3
   },
   "file_extension": ".py",
   "mimetype": "text/x-python",
   "name": "python",
   "nbconvert_exporter": "python",
   "pygments_lexer": "ipython3",
   "version": "3.8.8"
  }
 },
 "nbformat": 4,
 "nbformat_minor": 5
}
